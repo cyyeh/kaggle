{
  "nbformat": 4,
  "nbformat_minor": 0,
  "metadata": {
    "colab": {
      "name": "google-qa.ipynb",
      "provenance": [],
      "collapsed_sections": [],
      "machine_shape": "hm",
      "include_colab_link": true
    },
    "kernelspec": {
      "name": "python3",
      "display_name": "Python 3"
    },
    "accelerator": "GPU"
  },
  "cells": [
    {
      "cell_type": "markdown",
      "metadata": {
        "id": "view-in-github",
        "colab_type": "text"
      },
      "source": [
        "<a href=\"https://colab.research.google.com/github/cyyeh/kaggle/blob/master/google-qa/google_qa.ipynb\" target=\"_parent\"><img src=\"https://colab.research.google.com/assets/colab-badge.svg\" alt=\"Open In Colab\"/></a>"
      ]
    },
    {
      "cell_type": "code",
      "metadata": {
        "id": "X-T2r-tyyRwN",
        "colab_type": "code",
        "outputId": "09c73dfa-9a99-4184-9697-82bb00a76a5e",
        "colab": {
          "base_uri": "https://localhost:8080/",
          "height": 34
        }
      },
      "source": [
        "try:\n",
        "  %tensorflow_version 2.x\n",
        "except Exception:\n",
        "  pass"
      ],
      "execution_count": 1,
      "outputs": [
        {
          "output_type": "stream",
          "text": [
            "TensorFlow 2.x selected.\n"
          ],
          "name": "stdout"
        }
      ]
    },
    {
      "cell_type": "markdown",
      "metadata": {
        "id": "wycKI_jdbSe2",
        "colab_type": "text"
      },
      "source": [
        "### Download Kaggle Data Set for [TensorFlow 2.0 Question Answering](https://www.kaggle.com/c/tensorflow2-question-answering)\n"
      ]
    },
    {
      "cell_type": "code",
      "metadata": {
        "id": "q3M1z5fhKgO3",
        "colab_type": "code",
        "outputId": "29ece2d8-d70e-432f-d2f1-9342e53e94a0",
        "colab": {
          "base_uri": "https://localhost:8080/",
          "height": 207
        }
      },
      "source": [
        "import os\n",
        "os.environ['KAGGLE_USERNAME'] = \"chihyuyeh\" # username from the json file\n",
        "os.environ['KAGGLE_KEY'] = \"f21b340fc8082977cbf954c80ad69ae1\" # key from the json file\n",
        "!kaggle competitions download -c tensorflow2-question-answering"
      ],
      "execution_count": 4,
      "outputs": [
        {
          "output_type": "stream",
          "text": [
            "Warning: Looks like you're using an outdated API Version, please consider updating (server 1.5.6 / client 1.5.4)\n",
            "Downloading simplified-nq-train.jsonl.zip to /content\n",
            "100% 4.46G/4.46G [01:33<00:00, 60.1MB/s]\n",
            "100% 4.46G/4.46G [01:33<00:00, 51.4MB/s]\n",
            "Downloading simplified-nq-test.jsonl.zip to /content\n",
            "  0% 0.00/4.78M [00:00<?, ?B/s]\n",
            "100% 4.78M/4.78M [00:00<00:00, 157MB/s]\n",
            "Downloading sample_submission.csv to /content\n",
            "  0% 0.00/18.2k [00:00<?, ?B/s]\n",
            "100% 18.2k/18.2k [00:00<00:00, 15.9MB/s]\n"
          ],
          "name": "stdout"
        }
      ]
    },
    {
      "cell_type": "code",
      "metadata": {
        "id": "1BXCnu4BeeN5",
        "colab_type": "code",
        "colab": {
          "base_uri": "https://localhost:8080/",
          "height": 85
        },
        "outputId": "9e839fe6-6826-4d97-8d85-15e1889dceac"
      },
      "source": [
        "!unzip simplified-nq-train.jsonl.zip\n",
        "!unzip simplified-nq-test.jsonl.zip"
      ],
      "execution_count": 5,
      "outputs": [
        {
          "output_type": "stream",
          "text": [
            "Archive:  simplified-nq-train.jsonl.zip\n",
            "  inflating: simplified-nq-train.jsonl  \n",
            "Archive:  simplified-nq-test.jsonl.zip\n",
            "  inflating: simplified-nq-test.jsonl  \n"
          ],
          "name": "stdout"
        }
      ]
    },
    {
      "cell_type": "code",
      "metadata": {
        "id": "jWbHi1iThWiw",
        "colab_type": "code",
        "colab": {
          "base_uri": "https://localhost:8080/",
          "height": 207
        },
        "outputId": "f35ff568-ef38-4640-a45d-33711535bbed"
      },
      "source": [
        "!pip install bert-for-tf2 sentencepiece"
      ],
      "execution_count": 10,
      "outputs": [
        {
          "output_type": "stream",
          "text": [
            "Requirement already satisfied: bert-for-tf2 in /usr/local/lib/python3.6/dist-packages (0.12.7)\n",
            "Collecting sentencepiece\n",
            "\u001b[?25l  Downloading https://files.pythonhosted.org/packages/74/f4/2d5214cbf13d06e7cb2c20d84115ca25b53ea76fa1f0ade0e3c9749de214/sentencepiece-0.1.85-cp36-cp36m-manylinux1_x86_64.whl (1.0MB)\n",
            "\r\u001b[K     |▎                               | 10kB 21.4MB/s eta 0:00:01\r\u001b[K     |▋                               | 20kB 1.7MB/s eta 0:00:01\r\u001b[K     |█                               | 30kB 2.3MB/s eta 0:00:01\r\u001b[K     |█▎                              | 40kB 1.6MB/s eta 0:00:01\r\u001b[K     |█▋                              | 51kB 2.0MB/s eta 0:00:01\r\u001b[K     |██                              | 61kB 2.4MB/s eta 0:00:01\r\u001b[K     |██▏                             | 71kB 2.5MB/s eta 0:00:01\r\u001b[K     |██▌                             | 81kB 2.6MB/s eta 0:00:01\r\u001b[K     |██▉                             | 92kB 2.9MB/s eta 0:00:01\r\u001b[K     |███▏                            | 102kB 2.7MB/s eta 0:00:01\r\u001b[K     |███▌                            | 112kB 2.7MB/s eta 0:00:01\r\u001b[K     |███▉                            | 122kB 2.7MB/s eta 0:00:01\r\u001b[K     |████                            | 133kB 2.7MB/s eta 0:00:01\r\u001b[K     |████▍                           | 143kB 2.7MB/s eta 0:00:01\r\u001b[K     |████▊                           | 153kB 2.7MB/s eta 0:00:01\r\u001b[K     |█████                           | 163kB 2.7MB/s eta 0:00:01\r\u001b[K     |█████▍                          | 174kB 2.7MB/s eta 0:00:01\r\u001b[K     |█████▊                          | 184kB 2.7MB/s eta 0:00:01\r\u001b[K     |██████                          | 194kB 2.7MB/s eta 0:00:01\r\u001b[K     |██████▎                         | 204kB 2.7MB/s eta 0:00:01\r\u001b[K     |██████▋                         | 215kB 2.7MB/s eta 0:00:01\r\u001b[K     |███████                         | 225kB 2.7MB/s eta 0:00:01\r\u001b[K     |███████▎                        | 235kB 2.7MB/s eta 0:00:01\r\u001b[K     |███████▋                        | 245kB 2.7MB/s eta 0:00:01\r\u001b[K     |███████▉                        | 256kB 2.7MB/s eta 0:00:01\r\u001b[K     |████████▏                       | 266kB 2.7MB/s eta 0:00:01\r\u001b[K     |████████▌                       | 276kB 2.7MB/s eta 0:00:01\r\u001b[K     |████████▉                       | 286kB 2.7MB/s eta 0:00:01\r\u001b[K     |█████████▏                      | 296kB 2.7MB/s eta 0:00:01\r\u001b[K     |█████████▌                      | 307kB 2.7MB/s eta 0:00:01\r\u001b[K     |█████████▊                      | 317kB 2.7MB/s eta 0:00:01\r\u001b[K     |██████████                      | 327kB 2.7MB/s eta 0:00:01\r\u001b[K     |██████████▍                     | 337kB 2.7MB/s eta 0:00:01\r\u001b[K     |██████████▊                     | 348kB 2.7MB/s eta 0:00:01\r\u001b[K     |███████████                     | 358kB 2.7MB/s eta 0:00:01\r\u001b[K     |███████████▍                    | 368kB 2.7MB/s eta 0:00:01\r\u001b[K     |███████████▋                    | 378kB 2.7MB/s eta 0:00:01\r\u001b[K     |████████████                    | 389kB 2.7MB/s eta 0:00:01\r\u001b[K     |████████████▎                   | 399kB 2.7MB/s eta 0:00:01\r\u001b[K     |████████████▋                   | 409kB 2.7MB/s eta 0:00:01\r\u001b[K     |█████████████                   | 419kB 2.7MB/s eta 0:00:01\r\u001b[K     |█████████████▎                  | 430kB 2.7MB/s eta 0:00:01\r\u001b[K     |█████████████▌                  | 440kB 2.7MB/s eta 0:00:01\r\u001b[K     |█████████████▉                  | 450kB 2.7MB/s eta 0:00:01\r\u001b[K     |██████████████▏                 | 460kB 2.7MB/s eta 0:00:01\r\u001b[K     |██████████████▌                 | 471kB 2.7MB/s eta 0:00:01\r\u001b[K     |██████████████▉                 | 481kB 2.7MB/s eta 0:00:01\r\u001b[K     |███████████████▏                | 491kB 2.7MB/s eta 0:00:01\r\u001b[K     |███████████████▍                | 501kB 2.7MB/s eta 0:00:01\r\u001b[K     |███████████████▊                | 512kB 2.7MB/s eta 0:00:01\r\u001b[K     |████████████████                | 522kB 2.7MB/s eta 0:00:01\r\u001b[K     |████████████████▍               | 532kB 2.7MB/s eta 0:00:01\r\u001b[K     |████████████████▊               | 542kB 2.7MB/s eta 0:00:01\r\u001b[K     |█████████████████               | 552kB 2.7MB/s eta 0:00:01\r\u001b[K     |█████████████████▎              | 563kB 2.7MB/s eta 0:00:01\r\u001b[K     |█████████████████▋              | 573kB 2.7MB/s eta 0:00:01\r\u001b[K     |██████████████████              | 583kB 2.7MB/s eta 0:00:01\r\u001b[K     |██████████████████▎             | 593kB 2.7MB/s eta 0:00:01\r\u001b[K     |██████████████████▋             | 604kB 2.7MB/s eta 0:00:01\r\u001b[K     |███████████████████             | 614kB 2.7MB/s eta 0:00:01\r\u001b[K     |███████████████████▏            | 624kB 2.7MB/s eta 0:00:01\r\u001b[K     |███████████████████▌            | 634kB 2.7MB/s eta 0:00:01\r\u001b[K     |███████████████████▉            | 645kB 2.7MB/s eta 0:00:01\r\u001b[K     |████████████████████▏           | 655kB 2.7MB/s eta 0:00:01\r\u001b[K     |████████████████████▌           | 665kB 2.7MB/s eta 0:00:01\r\u001b[K     |████████████████████▉           | 675kB 2.7MB/s eta 0:00:01\r\u001b[K     |█████████████████████▏          | 686kB 2.7MB/s eta 0:00:01\r\u001b[K     |█████████████████████▍          | 696kB 2.7MB/s eta 0:00:01\r\u001b[K     |█████████████████████▊          | 706kB 2.7MB/s eta 0:00:01\r\u001b[K     |██████████████████████          | 716kB 2.7MB/s eta 0:00:01\r\u001b[K     |██████████████████████▍         | 727kB 2.7MB/s eta 0:00:01\r\u001b[K     |██████████████████████▊         | 737kB 2.7MB/s eta 0:00:01\r\u001b[K     |███████████████████████         | 747kB 2.7MB/s eta 0:00:01\r\u001b[K     |███████████████████████▎        | 757kB 2.7MB/s eta 0:00:01\r\u001b[K     |███████████████████████▋        | 768kB 2.7MB/s eta 0:00:01\r\u001b[K     |████████████████████████        | 778kB 2.7MB/s eta 0:00:01\r\u001b[K     |████████████████████████▎       | 788kB 2.7MB/s eta 0:00:01\r\u001b[K     |████████████████████████▋       | 798kB 2.7MB/s eta 0:00:01\r\u001b[K     |█████████████████████████       | 808kB 2.7MB/s eta 0:00:01\r\u001b[K     |█████████████████████████▏      | 819kB 2.7MB/s eta 0:00:01\r\u001b[K     |█████████████████████████▌      | 829kB 2.7MB/s eta 0:00:01\r\u001b[K     |█████████████████████████▉      | 839kB 2.7MB/s eta 0:00:01\r\u001b[K     |██████████████████████████▏     | 849kB 2.7MB/s eta 0:00:01\r\u001b[K     |██████████████████████████▌     | 860kB 2.7MB/s eta 0:00:01\r\u001b[K     |██████████████████████████▉     | 870kB 2.7MB/s eta 0:00:01\r\u001b[K     |███████████████████████████     | 880kB 2.7MB/s eta 0:00:01\r\u001b[K     |███████████████████████████▍    | 890kB 2.7MB/s eta 0:00:01\r\u001b[K     |███████████████████████████▊    | 901kB 2.7MB/s eta 0:00:01\r\u001b[K     |████████████████████████████    | 911kB 2.7MB/s eta 0:00:01\r\u001b[K     |████████████████████████████▍   | 921kB 2.7MB/s eta 0:00:01\r\u001b[K     |████████████████████████████▊   | 931kB 2.7MB/s eta 0:00:01\r\u001b[K     |█████████████████████████████   | 942kB 2.7MB/s eta 0:00:01\r\u001b[K     |█████████████████████████████▎  | 952kB 2.7MB/s eta 0:00:01\r\u001b[K     |█████████████████████████████▋  | 962kB 2.7MB/s eta 0:00:01\r\u001b[K     |██████████████████████████████  | 972kB 2.7MB/s eta 0:00:01\r\u001b[K     |██████████████████████████████▎ | 983kB 2.7MB/s eta 0:00:01\r\u001b[K     |██████████████████████████████▋ | 993kB 2.7MB/s eta 0:00:01\r\u001b[K     |██████████████████████████████▉ | 1.0MB 2.7MB/s eta 0:00:01\r\u001b[K     |███████████████████████████████▏| 1.0MB 2.7MB/s eta 0:00:01\r\u001b[K     |███████████████████████████████▌| 1.0MB 2.7MB/s eta 0:00:01\r\u001b[K     |███████████████████████████████▉| 1.0MB 2.7MB/s eta 0:00:01\r\u001b[K     |████████████████████████████████| 1.0MB 2.7MB/s \n",
            "\u001b[?25hRequirement already satisfied: params-flow>=0.7.1 in /usr/local/lib/python3.6/dist-packages (from bert-for-tf2) (0.7.4)\n",
            "Requirement already satisfied: py-params>=0.7.3 in /usr/local/lib/python3.6/dist-packages (from bert-for-tf2) (0.8.2)\n",
            "Requirement already satisfied: numpy in /usr/local/lib/python3.6/dist-packages (from params-flow>=0.7.1->bert-for-tf2) (1.17.4)\n",
            "Requirement already satisfied: tqdm in /usr/local/lib/python3.6/dist-packages (from params-flow>=0.7.1->bert-for-tf2) (4.28.1)\n",
            "Installing collected packages: sentencepiece\n",
            "Successfully installed sentencepiece-0.1.85\n"
          ],
          "name": "stdout"
        }
      ]
    },
    {
      "cell_type": "markdown",
      "metadata": {
        "id": "aQN9gyQ6ieNu",
        "colab_type": "text"
      },
      "source": [
        "## Initialize ALBERT Model"
      ]
    },
    {
      "cell_type": "code",
      "metadata": {
        "id": "_BKyRv0onZ0h",
        "colab_type": "code",
        "colab": {}
      },
      "source": [
        "import bert\n",
        "import tensorflow as tf\n",
        "import tensorflow_hub as hub\n",
        "from tensorflow import keras\n",
        "\n",
        "tf.compat.v1.disable_eager_execution()\n",
        "\n",
        "class TDense(tf.keras.layers.Layer):\n",
        "    def __init__(self,\n",
        "                 output_size,\n",
        "                 kernel_initializer=None,\n",
        "                 bias_initializer=\"zeros\",\n",
        "                **kwargs):\n",
        "        super().__init__(**kwargs)\n",
        "        self.output_size = output_size\n",
        "        self.kernel_initializer = kernel_initializer\n",
        "        self.bias_initializer = bias_initializer\n",
        "    def build(self,input_shape):\n",
        "        dtype = tf.as_dtype(self.dtype or tf.keras.backend.floatx())\n",
        "        if not (dtype.is_floating or dtype.is_complex):\n",
        "          raise TypeError(\"Unable to build `TDense` layer with \"\n",
        "                          \"non-floating point (and non-complex) \"\n",
        "                          \"dtype %s\" % (dtype,))\n",
        "        input_shape = tf.TensorShape(input_shape)\n",
        "        if tf.compat.dimension_value(input_shape[-1]) is None:\n",
        "          raise ValueError(\"The last dimension of the inputs to \"\n",
        "                           \"`TDense` should be defined. \"\n",
        "                           \"Found `None`.\")\n",
        "        last_dim = tf.compat.dimension_value(input_shape[-1])\n",
        "        self.input_spec = tf.keras.layers.InputSpec(min_ndim=3, axes={-1: last_dim})\n",
        "        self.kernel = self.add_weight(\n",
        "            \"kernel\",\n",
        "            shape=[self.output_size,last_dim],\n",
        "            initializer=self.kernel_initializer,\n",
        "            dtype=self.dtype,\n",
        "            trainable=True)\n",
        "        self.bias = self.add_weight(\n",
        "            \"bias\",\n",
        "            shape=[self.output_size],\n",
        "            initializer=self.bias_initializer,\n",
        "            dtype=self.dtype,\n",
        "            trainable=True)\n",
        "        super(TDense, self).build(input_shape)\n",
        "    def call(self,x):\n",
        "        return tf.matmul(x,self.kernel,transpose_b=True)+self.bias"
      ],
      "execution_count": 0,
      "outputs": []
    },
    {
      "cell_type": "code",
      "metadata": {
        "id": "QFnJofpmozlI",
        "colab_type": "code",
        "colab": {}
      },
      "source": [
        "def mk_model(batch_size=16, max_seq_len=512):\n",
        "    unique_id  = tf.keras.Input(shape=(1,), batch_size=batch_size, dtype=tf.int64,name='unique_id')\n",
        "    input_ids   = tf.keras.Input(shape=(max_seq_len,), batch_size=batch_size, dtype=tf.int32,name='input_ids')\n",
        "    input_mask  = tf.keras.Input(shape=(max_seq_len,), batch_size=batch_size, dtype=tf.int32,name='input_mask')\n",
        "    segment_ids = tf.keras.Input(shape=(max_seq_len,), batch_size=batch_size, dtype=tf.int32,name='segment_ids')\n",
        "    \n",
        "    # import albert\n",
        "    albert_module = hub.load(\n",
        "        \"https://tfhub.dev/google/albert_base/2\")\n",
        "    albert_outputs = albert_module.signatures[\"tokens\"](input_ids=input_ids, segment_ids=segment_ids, input_mask=input_mask)\n",
        "\n",
        "    pooled_output = albert_outputs[\"pooled_output\"]\n",
        "    sequence_output = albert_outputs[\"sequence_output\"]\n",
        "    \n",
        "    logits = TDense(2,name='logits')(sequence_output)\n",
        "    start_logits,end_logits = tf.split(logits,axis=-1,num_or_size_splits= 2,name='split')\n",
        "    start_logits = tf.squeeze(start_logits,axis=-1,name='start_squeeze')\n",
        "    end_logits   = tf.squeeze(end_logits,  axis=-1,name='end_squeeze')\n",
        "    \n",
        "    ans_type      = TDense(5,name='ans_type')(pooled_output)\n",
        "    return tf.keras.Model([input_ for input_ in [unique_id,input_ids,input_mask,segment_ids] \n",
        "                           if input_ is not None],\n",
        "                          [unique_id,start_logits,end_logits,ans_type],\n",
        "                          name='bert-baseline')"
      ],
      "execution_count": 0,
      "outputs": []
    },
    {
      "cell_type": "code",
      "metadata": {
        "id": "90g47_91Pwxd",
        "colab_type": "code",
        "colab": {
          "base_uri": "https://localhost:8080/",
          "height": 581
        },
        "outputId": "4c170b5c-ce4c-4271-810c-086f17f81694"
      },
      "source": [
        "model = mk_model()\n",
        "model.summary()"
      ],
      "execution_count": 39,
      "outputs": [
        {
          "output_type": "stream",
          "text": [
            "/tensorflow-2.1.0/python3.6/tensorflow_core/python/client/session.py:1474: FutureWarning: Passing (type, 1) or '1type' as a synonym of type is deprecated; in a future version of numpy, it will be understood as (type, (1,)) / '(1,)type'.\n",
            "  run_metadata_ptr)\n"
          ],
          "name": "stderr"
        },
        {
          "output_type": "stream",
          "text": [
            "Model: \"bert-baseline\"\n",
            "__________________________________________________________________________________________________\n",
            "Layer (type)                    Output Shape         Param #     Connected to                     \n",
            "==================================================================================================\n",
            "segment_ids (InputLayer)        [(16, 512)]          0                                            \n",
            "__________________________________________________________________________________________________\n",
            "input_ids (InputLayer)          [(16, 512)]          0                                            \n",
            "__________________________________________________________________________________________________\n",
            "input_mask (InputLayer)         [(16, 512)]          0                                            \n",
            "__________________________________________________________________________________________________\n",
            "tf_op_layer_StatefulPartitioned [(16, 768), (16, 512 0           segment_ids[0][0]                \n",
            "                                                                 input_ids[0][0]                  \n",
            "                                                                 input_mask[0][0]                 \n",
            "__________________________________________________________________________________________________\n",
            "logits (TDense)                 (16, 512, 2)         1538        tf_op_layer_StatefulPartitionedCa\n",
            "__________________________________________________________________________________________________\n",
            "tf_op_layer_split (TensorFlowOp [(16, 512, 1), (16,  0           logits[0][0]                     \n",
            "__________________________________________________________________________________________________\n",
            "unique_id (InputLayer)          [(16, 1)]            0                                            \n",
            "__________________________________________________________________________________________________\n",
            "tf_op_layer_start_squeeze (Tens [(16, 512)]          0           tf_op_layer_split[0][0]          \n",
            "__________________________________________________________________________________________________\n",
            "tf_op_layer_end_squeeze (Tensor [(16, 512)]          0           tf_op_layer_split[0][1]          \n",
            "__________________________________________________________________________________________________\n",
            "ans_type (TDense)               (16, 5)              3845        tf_op_layer_StatefulPartitionedCa\n",
            "==================================================================================================\n",
            "Total params: 5,383\n",
            "Trainable params: 5,383\n",
            "Non-trainable params: 0\n",
            "__________________________________________________________________________________________________\n"
          ],
          "name": "stdout"
        }
      ]
    },
    {
      "cell_type": "code",
      "metadata": {
        "id": "ON1_d2bEio5j",
        "colab_type": "code",
        "colab": {}
      },
      "source": [
        ""
      ],
      "execution_count": 0,
      "outputs": []
    }
  ]
}