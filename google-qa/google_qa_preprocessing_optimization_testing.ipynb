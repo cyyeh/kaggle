{
  "nbformat": 4,
  "nbformat_minor": 0,
  "metadata": {
    "colab": {
      "name": "google-qa--preprocessing-optimization-testing.ipynb",
      "provenance": [],
      "authorship_tag": "ABX9TyN1aQROShSyAUkBq0pwK67b",
      "include_colab_link": true
    },
    "kernelspec": {
      "name": "python3",
      "display_name": "Python 3"
    }
  },
  "cells": [
    {
      "cell_type": "markdown",
      "metadata": {
        "id": "view-in-github",
        "colab_type": "text"
      },
      "source": [
        "<a href=\"https://colab.research.google.com/github/cyyeh/kaggle/blob/master/google-qa/google_qa_preprocessing_optimization_testing.ipynb\" target=\"_parent\"><img src=\"https://colab.research.google.com/assets/colab-badge.svg\" alt=\"Open In Colab\"/></a>"
      ]
    },
    {
      "cell_type": "markdown",
      "metadata": {
        "id": "NBNM5z5L1kBt",
        "colab_type": "text"
      },
      "source": [
        "# Preprocessing Optimization Testing"
      ]
    },
    {
      "cell_type": "markdown",
      "metadata": {
        "id": "2yAPrL_A1yPZ",
        "colab_type": "text"
      },
      "source": [
        "## Impor Libraries and Environment Setup"
      ]
    },
    {
      "cell_type": "code",
      "metadata": {
        "id": "gGEmH55Y11mN",
        "colab_type": "code",
        "colab": {
          "base_uri": "https://localhost:8080/",
          "height": 34
        },
        "outputId": "6966caf3-f9e3-488b-98f1-eab6ad106e20"
      },
      "source": [
        "# make sure colab use tf2.x\n",
        "try:\n",
        "  %tensorflow_version 2.x\n",
        "except Exception:\n",
        "  pass"
      ],
      "execution_count": 1,
      "outputs": [
        {
          "output_type": "stream",
          "text": [
            "TensorFlow 2.x selected.\n"
          ],
          "name": "stdout"
        }
      ]
    },
    {
      "cell_type": "code",
      "metadata": {
        "id": "FlMyl2-W13HX",
        "colab_type": "code",
        "colab": {}
      },
      "source": [
        "import json\n",
        "import os\n",
        "import pandas as pd\n",
        "import numpy as np"
      ],
      "execution_count": 0,
      "outputs": []
    },
    {
      "cell_type": "code",
      "metadata": {
        "id": "c7DoDiRa14kz",
        "colab_type": "code",
        "colab": {
          "base_uri": "https://localhost:8080/",
          "height": 666
        },
        "outputId": "46473c73-dfe9-4f08-cb1a-c0bd282e710d"
      },
      "source": [
        "!pip install transformers # BertModel"
      ],
      "execution_count": 3,
      "outputs": [
        {
          "output_type": "stream",
          "text": [
            "Collecting transformers\n",
            "\u001b[?25l  Downloading https://files.pythonhosted.org/packages/ee/fc/bd726a15ab2c66dc09306689d04da07a3770dad724f0883f0a4bfb745087/transformers-2.4.1-py3-none-any.whl (475kB)\n",
            "\r\u001b[K     |▊                               | 10kB 19.6MB/s eta 0:00:01\r\u001b[K     |█▍                              | 20kB 1.5MB/s eta 0:00:01\r\u001b[K     |██                              | 30kB 1.7MB/s eta 0:00:01\r\u001b[K     |██▊                             | 40kB 1.6MB/s eta 0:00:01\r\u001b[K     |███▍                            | 51kB 1.8MB/s eta 0:00:01\r\u001b[K     |████▏                           | 61kB 2.1MB/s eta 0:00:01\r\u001b[K     |████▉                           | 71kB 2.3MB/s eta 0:00:01\r\u001b[K     |█████▌                          | 81kB 2.2MB/s eta 0:00:01\r\u001b[K     |██████▏                         | 92kB 2.4MB/s eta 0:00:01\r\u001b[K     |██████▉                         | 102kB 2.5MB/s eta 0:00:01\r\u001b[K     |███████▋                        | 112kB 2.5MB/s eta 0:00:01\r\u001b[K     |████████▎                       | 122kB 2.5MB/s eta 0:00:01\r\u001b[K     |█████████                       | 133kB 2.5MB/s eta 0:00:01\r\u001b[K     |█████████▋                      | 143kB 2.5MB/s eta 0:00:01\r\u001b[K     |██████████▎                     | 153kB 2.5MB/s eta 0:00:01\r\u001b[K     |███████████                     | 163kB 2.5MB/s eta 0:00:01\r\u001b[K     |███████████▊                    | 174kB 2.5MB/s eta 0:00:01\r\u001b[K     |████████████▍                   | 184kB 2.5MB/s eta 0:00:01\r\u001b[K     |█████████████                   | 194kB 2.5MB/s eta 0:00:01\r\u001b[K     |█████████████▊                  | 204kB 2.5MB/s eta 0:00:01\r\u001b[K     |██████████████▌                 | 215kB 2.5MB/s eta 0:00:01\r\u001b[K     |███████████████▏                | 225kB 2.5MB/s eta 0:00:01\r\u001b[K     |███████████████▉                | 235kB 2.5MB/s eta 0:00:01\r\u001b[K     |████████████████▌               | 245kB 2.5MB/s eta 0:00:01\r\u001b[K     |█████████████████▏              | 256kB 2.5MB/s eta 0:00:01\r\u001b[K     |██████████████████              | 266kB 2.5MB/s eta 0:00:01\r\u001b[K     |██████████████████▋             | 276kB 2.5MB/s eta 0:00:01\r\u001b[K     |███████████████████▎            | 286kB 2.5MB/s eta 0:00:01\r\u001b[K     |████████████████████            | 296kB 2.5MB/s eta 0:00:01\r\u001b[K     |████████████████████▋           | 307kB 2.5MB/s eta 0:00:01\r\u001b[K     |█████████████████████▍          | 317kB 2.5MB/s eta 0:00:01\r\u001b[K     |██████████████████████          | 327kB 2.5MB/s eta 0:00:01\r\u001b[K     |██████████████████████▊         | 337kB 2.5MB/s eta 0:00:01\r\u001b[K     |███████████████████████▍        | 348kB 2.5MB/s eta 0:00:01\r\u001b[K     |████████████████████████        | 358kB 2.5MB/s eta 0:00:01\r\u001b[K     |████████████████████████▉       | 368kB 2.5MB/s eta 0:00:01\r\u001b[K     |█████████████████████████▌      | 378kB 2.5MB/s eta 0:00:01\r\u001b[K     |██████████████████████████▏     | 389kB 2.5MB/s eta 0:00:01\r\u001b[K     |██████████████████████████▉     | 399kB 2.5MB/s eta 0:00:01\r\u001b[K     |███████████████████████████▌    | 409kB 2.5MB/s eta 0:00:01\r\u001b[K     |████████████████████████████▎   | 419kB 2.5MB/s eta 0:00:01\r\u001b[K     |█████████████████████████████   | 430kB 2.5MB/s eta 0:00:01\r\u001b[K     |█████████████████████████████▋  | 440kB 2.5MB/s eta 0:00:01\r\u001b[K     |██████████████████████████████▎ | 450kB 2.5MB/s eta 0:00:01\r\u001b[K     |███████████████████████████████ | 460kB 2.5MB/s eta 0:00:01\r\u001b[K     |███████████████████████████████▊| 471kB 2.5MB/s eta 0:00:01\r\u001b[K     |████████████████████████████████| 481kB 2.5MB/s \n",
            "\u001b[?25hRequirement already satisfied: tqdm>=4.27 in /usr/local/lib/python3.6/dist-packages (from transformers) (4.28.1)\n",
            "Collecting sentencepiece\n",
            "\u001b[?25l  Downloading https://files.pythonhosted.org/packages/74/f4/2d5214cbf13d06e7cb2c20d84115ca25b53ea76fa1f0ade0e3c9749de214/sentencepiece-0.1.85-cp36-cp36m-manylinux1_x86_64.whl (1.0MB)\n",
            "\u001b[K     |████████████████████████████████| 1.0MB 6.2MB/s \n",
            "\u001b[?25hRequirement already satisfied: regex!=2019.12.17 in /usr/local/lib/python3.6/dist-packages (from transformers) (2019.12.20)\n",
            "Requirement already satisfied: numpy in /tensorflow-2.1.0/python3.6 (from transformers) (1.18.1)\n",
            "Requirement already satisfied: requests in /tensorflow-2.1.0/python3.6 (from transformers) (2.22.0)\n",
            "Requirement already satisfied: boto3 in /usr/local/lib/python3.6/dist-packages (from transformers) (1.11.15)\n",
            "Collecting sacremoses\n",
            "\u001b[?25l  Downloading https://files.pythonhosted.org/packages/a6/b4/7a41d630547a4afd58143597d5a49e07bfd4c42914d8335b2a5657efc14b/sacremoses-0.0.38.tar.gz (860kB)\n",
            "\u001b[K     |████████████████████████████████| 870kB 13.7MB/s \n",
            "\u001b[?25hCollecting tokenizers==0.0.11\n",
            "\u001b[?25l  Downloading https://files.pythonhosted.org/packages/5e/36/7af38d572c935f8e0462ec7b4f7a46d73a2b3b1a938f50a5e8132d5b2dc5/tokenizers-0.0.11-cp36-cp36m-manylinux1_x86_64.whl (3.1MB)\n",
            "\u001b[K     |████████████████████████████████| 3.1MB 12.4MB/s \n",
            "\u001b[?25hRequirement already satisfied: filelock in /usr/local/lib/python3.6/dist-packages (from transformers) (3.0.12)\n",
            "Requirement already satisfied: idna<2.9,>=2.5 in /tensorflow-2.1.0/python3.6 (from requests->transformers) (2.8)\n",
            "Requirement already satisfied: chardet<3.1.0,>=3.0.2 in /tensorflow-2.1.0/python3.6 (from requests->transformers) (3.0.4)\n",
            "Requirement already satisfied: certifi>=2017.4.17 in /tensorflow-2.1.0/python3.6 (from requests->transformers) (2019.11.28)\n",
            "Requirement already satisfied: urllib3!=1.25.0,!=1.25.1,<1.26,>=1.21.1 in /tensorflow-2.1.0/python3.6 (from requests->transformers) (1.25.8)\n",
            "Requirement already satisfied: jmespath<1.0.0,>=0.7.1 in /usr/local/lib/python3.6/dist-packages (from boto3->transformers) (0.9.4)\n",
            "Requirement already satisfied: botocore<1.15.0,>=1.14.15 in /usr/local/lib/python3.6/dist-packages (from boto3->transformers) (1.14.15)\n",
            "Requirement already satisfied: s3transfer<0.4.0,>=0.3.0 in /usr/local/lib/python3.6/dist-packages (from boto3->transformers) (0.3.3)\n",
            "Requirement already satisfied: six in /tensorflow-2.1.0/python3.6 (from sacremoses->transformers) (1.14.0)\n",
            "Requirement already satisfied: click in /usr/local/lib/python3.6/dist-packages (from sacremoses->transformers) (7.0)\n",
            "Requirement already satisfied: joblib in /usr/local/lib/python3.6/dist-packages (from sacremoses->transformers) (0.14.1)\n",
            "Requirement already satisfied: python-dateutil<3.0.0,>=2.1 in /usr/local/lib/python3.6/dist-packages (from botocore<1.15.0,>=1.14.15->boto3->transformers) (2.6.1)\n",
            "Requirement already satisfied: docutils<0.16,>=0.10 in /usr/local/lib/python3.6/dist-packages (from botocore<1.15.0,>=1.14.15->boto3->transformers) (0.15.2)\n",
            "Building wheels for collected packages: sacremoses\n",
            "  Building wheel for sacremoses (setup.py) ... \u001b[?25l\u001b[?25hdone\n",
            "  Created wheel for sacremoses: filename=sacremoses-0.0.38-cp36-none-any.whl size=884628 sha256=dd97f796b5ef817971728b759ddf6c6a951af608b2f4e6443146ef5388b0da97\n",
            "  Stored in directory: /root/.cache/pip/wheels/6d/ec/1a/21b8912e35e02741306f35f66c785f3afe94de754a0eaf1422\n",
            "Successfully built sacremoses\n",
            "Installing collected packages: sentencepiece, sacremoses, tokenizers, transformers\n",
            "Successfully installed sacremoses-0.0.38 sentencepiece-0.1.85 tokenizers-0.0.11 transformers-2.4.1\n"
          ],
          "name": "stdout"
        }
      ]
    },
    {
      "cell_type": "code",
      "metadata": {
        "id": "VyNljpzs185W",
        "colab_type": "code",
        "colab": {}
      },
      "source": [
        "from transformers import AlbertTokenizer"
      ],
      "execution_count": 0,
      "outputs": []
    },
    {
      "cell_type": "markdown",
      "metadata": {
        "id": "nNg0vQRY1onB",
        "colab_type": "text"
      },
      "source": [
        "## Download Training Dataset(16.26GB)"
      ]
    },
    {
      "cell_type": "code",
      "metadata": {
        "id": "hWrMfZWi1Z65",
        "colab_type": "code",
        "colab": {
          "base_uri": "https://localhost:8080/",
          "height": 112
        },
        "outputId": "f1ea267b-0b47-4781-a8f8-73e6c58ada1e"
      },
      "source": [
        "import os\n",
        "os.environ['KAGGLE_USERNAME'] = \"chihyuyeh\" # username from the json file\n",
        "os.environ['KAGGLE_KEY'] = \"f21b340fc8082977cbf954c80ad69ae1\" # key from the json file\n",
        "!kaggle competitions download -c tensorflow2-question-answering -f simplified-nq-train.jsonl\n",
        "!unzip simplified-nq-train.jsonl.zip"
      ],
      "execution_count": 0,
      "outputs": [
        {
          "output_type": "stream",
          "text": [
            "Downloading simplified-nq-train.jsonl.zip to /content\n",
            "100% 4.45G/4.46G [01:01<00:00, 64.9MB/s]\n",
            "100% 4.46G/4.46G [01:01<00:00, 78.0MB/s]\n",
            "Archive:  simplified-nq-train.jsonl.zip\n",
            "  inflating: simplified-nq-train.jsonl  "
          ],
          "name": "stdout"
        }
      ]
    },
    {
      "cell_type": "code",
      "metadata": {
        "id": "_A7wGC672DUq",
        "colab_type": "code",
        "colab": {}
      },
      "source": [
        ""
      ],
      "execution_count": 0,
      "outputs": []
    }
  ]
}