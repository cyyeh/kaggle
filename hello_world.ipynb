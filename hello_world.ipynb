{
  "nbformat": 4,
  "nbformat_minor": 0,
  "metadata": {
    "colab": {
      "name": "pytorch-hello-world.ipynb",
      "provenance": []
    },
    "kernelspec": {
      "name": "python3",
      "display_name": "Python 3"
    },
    "accelerator": "GPU"
  },
  "cells": [
    {
      "cell_type": "markdown",
      "metadata": {
        "id": "u4WJG-yl1A1G",
        "colab_type": "text"
      },
      "source": [
        "# Training a classifier\n",
        "\n",
        "1. Load and normalizing the CIFAR10 training and test datasets using torchvision\n",
        "2. Define a Convolutional Neural Network\n",
        "3. Define a loss function\n",
        "4. Train the network on the training data\n",
        "5. Test the network on the test data"
      ]
    },
    {
      "cell_type": "markdown",
      "metadata": {
        "id": "2wIl_stz1U17",
        "colab_type": "text"
      },
      "source": [
        "## 1. Loading and normalizing CIFAR10\n",
        " "
      ]
    },
    {
      "cell_type": "code",
      "metadata": {
        "id": "EFb6YsacxjOz",
        "colab_type": "code",
        "colab": {}
      },
      "source": [
        "import torch\n",
        "import torchvision\n",
        "import torchvision.transforms as transforms"
      ],
      "execution_count": 0,
      "outputs": []
    },
    {
      "cell_type": "code",
      "metadata": {
        "id": "JSLPWUyC1AJY",
        "colab_type": "code",
        "outputId": "92d39945-a6d5-4c1b-93a8-cc7a5550b306",
        "colab": {
          "base_uri": "https://localhost:8080/",
          "height": 105
        }
      },
      "source": [
        "transform = transforms.Compose([transforms.ToTensor(), transforms.Normalize((0.5, 0.5, 0.5), (0.5, 0.5, 0.5))])\n",
        "\n",
        "trainset = torchvision.datasets.CIFAR10(root='./data', train=True, download=True, transform=transform)\n",
        "trainloader = torch.utils.data.DataLoader(trainset, batch_size=4, shuffle=True, num_workers=2)\n",
        "\n",
        "testset = torchvision.datasets.CIFAR10(root='./data', train=False, download=True, transform=transform)\n",
        "testloader = torch.utils.data.DataLoader(testset, batch_size=4, shuffle=False, num_workers=2)\n",
        "\n",
        "classes = ('plane', 'car', 'bird', 'cat', 'deer', 'dog', 'frog', 'horse', 'ship', 'truck')"
      ],
      "execution_count": 3,
      "outputs": [
        {
          "output_type": "stream",
          "text": [
            "\r0it [00:00, ?it/s]"
          ],
          "name": "stderr"
        },
        {
          "output_type": "stream",
          "text": [
            "Downloading https://www.cs.toronto.edu/~kriz/cifar-10-python.tar.gz to ./data/cifar-10-python.tar.gz\n"
          ],
          "name": "stdout"
        },
        {
          "output_type": "stream",
          "text": [
            "170500096it [00:06, 24755514.57it/s]                               \n"
          ],
          "name": "stderr"
        },
        {
          "output_type": "stream",
          "text": [
            "Extracting ./data/cifar-10-python.tar.gz to ./data\n",
            "Files already downloaded and verified\n"
          ],
          "name": "stdout"
        }
      ]
    },
    {
      "cell_type": "markdown",
      "metadata": {
        "id": "WpMXRJBE3jbO",
        "colab_type": "text"
      },
      "source": [
        "### Let us show some of the traning images, for fun"
      ]
    },
    {
      "cell_type": "code",
      "metadata": {
        "id": "wAiSQ9gB3cTW",
        "colab_type": "code",
        "outputId": "4bcdd4b9-1087-428a-ce74-46188f24ffa9",
        "colab": {
          "base_uri": "https://localhost:8080/",
          "height": 155
        }
      },
      "source": [
        "import matplotlib.pyplot as plt\n",
        "import numpy as np\n",
        "\n",
        "# functions to show an image\n",
        "def imshow(img):\n",
        "  img = img / 2 + 0.5 # unnormalize => (-1, 1) => (0, 1)\n",
        "  npimg = img.numpy()\n",
        "  plt.imshow(np.transpose(npimg, (1, 2, 0)))\n",
        "  plt.show()\n",
        "\n",
        "# get some random training images\n",
        "dataiter = iter(trainloader)\n",
        "images, labels = dataiter.next()\n",
        "\n",
        "# show images\n",
        "imshow(torchvision.utils.make_grid(images))\n",
        "# print labels\n",
        "print(' '.join('%5s' % classes[labels[j]] for j in range(4)))"
      ],
      "execution_count": 4,
      "outputs": [
        {
          "output_type": "display_data",
          "data": {
            "image/png": "[encoded data removed]",
            "text/plain": [
              "<Figure size 432x288 with 1 Axes>"
            ]
          },
          "metadata": {
            "tags": []
          }
        },
        {
          "output_type": "stream",
          "text": [
            " ship plane horse   car\n"
          ],
          "name": "stdout"
        }
      ]
    },
    {
      "cell_type": "markdown",
      "metadata": {
        "id": "ucNHRQEC43FT",
        "colab_type": "text"
      },
      "source": [
        "## 2. Define a Convolutional Neural Network"
      ]
    },
    {
      "cell_type": "code",
      "metadata": {
        "id": "R1FGiXdD4mMY",
        "colab_type": "code",
        "colab": {}
      },
      "source": [
        "import torch.nn as nn\n",
        "import torch.nn.functional as F\n",
        "\n",
        "class Net(nn.Module):\n",
        "  def __init__(self):\n",
        "    super(Net, self).__init__()\n",
        "    self.conv1 = nn.Conv2d(3, 6, 5)\n",
        "    self.pool = nn.MaxPool2d(2, 2)\n",
        "    self.conv2 = nn.Conv2d(6, 16, 5)\n",
        "    self.fc1 = nn.Linear(16 * 5 * 5, 120)\n",
        "    self.fc2 = nn.Linear(120, 84)\n",
        "    self.fc3 = nn.Linear(84, 10)\n",
        "\n",
        "  def forward(self, x):\n",
        "    x = self.pool(F.relu(self.conv1(x)))\n",
        "    x = self.pool(F.relu(self.conv2(x)))\n",
        "    x = x.view(-1, 16 * 5 * 5)\n",
        "    x = F.relu(self.fc1(x))\n",
        "    x = F.relu(self.fc2(x))\n",
        "    x = self.fc3(x)\n",
        "    return x\n",
        "\n",
        "net = Net()"
      ],
      "execution_count": 0,
      "outputs": []
    },
    {
      "cell_type": "markdown",
      "metadata": {
        "id": "B8Vf4Pm75u1S",
        "colab_type": "text"
      },
      "source": [
        "## 3. Define a Loss function and optimizer"
      ]
    },
    {
      "cell_type": "code",
      "metadata": {
        "id": "UbmfGUs-5rW5",
        "colab_type": "code",
        "colab": {}
      },
      "source": [
        "import torch.optim as optim\n",
        "\n",
        "criterion = nn.CrossEntropyLoss()\n",
        "optimizer = optim.SGD(net.parameters(), lr=0.001, momentum=0.9)"
      ],
      "execution_count": 0,
      "outputs": []
    },
    {
      "cell_type": "markdown",
      "metadata": {
        "id": "7O2D2wW36cH5",
        "colab_type": "text"
      },
      "source": [
        "## 4. Train the network"
      ]
    },
    {
      "cell_type": "code",
      "metadata": {
        "id": "E6an4OBg6Uk2",
        "colab_type": "code",
        "outputId": "38d2640f-dcbe-4c69-88e6-466640f0d2b5",
        "colab": {
          "base_uri": "https://localhost:8080/",
          "height": 238
        }
      },
      "source": [
        "def train_using_cpu():\n",
        "  for epoch in range(2):\n",
        "    running_loss = 0.0\n",
        "    for i, data in enumerate(trainloader, 0):\n",
        "      # get the inputs; data is a list of [inputs, labels]\n",
        "      inputs, labels = data\n",
        "\n",
        "      # zero the parameter gradients\n",
        "      optimizer.zero_grad()\n",
        "\n",
        "      # forward + backward + optimize\n",
        "      outputs = net(inputs)\n",
        "      loss = criterion(outputs, labels)\n",
        "      loss.backward()\n",
        "      optimizer.step()\n",
        "\n",
        "      # print statistics\n",
        "      running_loss += loss.item()\n",
        "      if i % 2000 == 1999: # print every 2000 mini-batches\n",
        "        print('[%d, %5d] loss: %.3f' % (epoch + 1, i + 1, running_loss / 2000))\n",
        "        running_loss = 0.0\n",
        "\n",
        "import timeit\n",
        "print(timeit.timeit(\"train_using_cpu()\", globals=globals(), number=1))\n",
        "print('Finished Training')"
      ],
      "execution_count": 27,
      "outputs": [
        {
          "output_type": "stream",
          "text": [
            "[1,  2000] loss: 0.912\n",
            "[1,  4000] loss: 0.920\n",
            "[1,  6000] loss: 0.944\n",
            "[1,  8000] loss: 0.941\n",
            "[1, 10000] loss: 0.940\n",
            "[1, 12000] loss: 0.961\n",
            "[2,  2000] loss: 0.857\n",
            "[2,  4000] loss: 0.866\n",
            "[2,  6000] loss: 0.892\n",
            "[2, 10000] loss: 0.905\n",
            "[2, 12000] loss: 0.913\n",
            "109.582679633\n",
            "Finished Training\n"
          ],
          "name": "stdout"
        }
      ]
    },
    {
      "cell_type": "markdown",
      "metadata": {
        "id": "dENyKfGI7jZI",
        "colab_type": "text"
      },
      "source": [
        "### Let's quickly save our trained model"
      ]
    },
    {
      "cell_type": "code",
      "metadata": {
        "id": "OeOdCaOT7Y3l",
        "colab_type": "code",
        "colab": {}
      },
      "source": [
        "PATH = './cifar_net.pth'\n",
        "torch.save(net.state_dict(), PATH)"
      ],
      "execution_count": 0,
      "outputs": []
    },
    {
      "cell_type": "markdown",
      "metadata": {
        "id": "DO-NAHeH731s",
        "colab_type": "text"
      },
      "source": [
        "## 5. Test the network on the test data"
      ]
    },
    {
      "cell_type": "code",
      "metadata": {
        "id": "q2fwUM6W7tBv",
        "colab_type": "code",
        "outputId": "1a2407d0-eee2-4caf-cd93-a6296dd2ea61",
        "colab": {
          "base_uri": "https://localhost:8080/",
          "height": 155
        }
      },
      "source": [
        "dataiter = iter(testloader)\n",
        "images, labels = dataiter.next()\n",
        "\n",
        "# print images\n",
        "imshow(torchvision.utils.make_grid(images))\n",
        "print('GroundTruth: ', ' '.join('%5s' % classes[labels[j]] for j in range(4)))"
      ],
      "execution_count": 9,
      "outputs": [
        {
          "output_type": "display_data",
          "data": {
            "image/png": "[encoded data removed]",
            "text/plain": [
              "<Figure size 432x288 with 1 Axes>"
            ]
          },
          "metadata": {
            "tags": []
          }
        },
        {
          "output_type": "stream",
          "text": [
            "GroundTruth:    cat  ship  ship plane\n"
          ],
          "name": "stdout"
        }
      ]
    },
    {
      "cell_type": "code",
      "metadata": {
        "id": "8mvnCE508aEk",
        "colab_type": "code",
        "outputId": "1d8b9ee5-1921-410f-8bc1-1ec5a6693efd",
        "colab": {
          "base_uri": "https://localhost:8080/",
          "height": 34
        }
      },
      "source": [
        "# note: saving and re-loading the model wasn’t necessary here, we only did it to illustrate how to do so\n",
        "net = Net()\n",
        "net.load_state_dict(torch.load(PATH))"
      ],
      "execution_count": 10,
      "outputs": [
        {
          "output_type": "execute_result",
          "data": {
            "text/plain": [
              "<All keys matched successfully>"
            ]
          },
          "metadata": {
            "tags": []
          },
          "execution_count": 10
        }
      ]
    },
    {
      "cell_type": "code",
      "metadata": {
        "id": "31sQJ6dJ8vFT",
        "colab_type": "code",
        "outputId": "7e5455f7-b150-4b4a-ba8a-e290151f2eaa",
        "colab": {
          "base_uri": "https://localhost:8080/",
          "height": 34
        }
      },
      "source": [
        "outputs = net(images)\n",
        "_, predicted = torch.max(outputs, 1)\n",
        "print('Predicted: ', ' '.join('%5s' % classes[predicted[j]] for j in range(4)))"
      ],
      "execution_count": 11,
      "outputs": [
        {
          "output_type": "stream",
          "text": [
            "Predicted:   frog  ship   car plane\n"
          ],
          "name": "stdout"
        }
      ]
    },
    {
      "cell_type": "markdown",
      "metadata": {
        "id": "bm_9L5GB8_ii",
        "colab_type": "text"
      },
      "source": [
        "### Let us look at how the network performs on the whole dataset"
      ]
    },
    {
      "cell_type": "code",
      "metadata": {
        "id": "l3VuTmjb86iH",
        "colab_type": "code",
        "outputId": "ca84443b-c687-4e77-ae88-7e655b24dd52",
        "colab": {
          "base_uri": "https://localhost:8080/",
          "height": 34
        }
      },
      "source": [
        "correct = 0\n",
        "total = 0\n",
        "with torch.no_grad():\n",
        "  for data in testloader:\n",
        "    images, labels = data\n",
        "    outputs = net(images)\n",
        "    _, predicted = torch.max(outputs.data, 1)\n",
        "    total += labels.size(0)\n",
        "    correct += (predicted == labels).sum().item()\n",
        "\n",
        "print('Accuracy of the network on the 10000 test images: %d %%' % (100 * correct / total))"
      ],
      "execution_count": 12,
      "outputs": [
        {
          "output_type": "stream",
          "text": [
            "Accuracy of the network on the 10000 test images: 55 %\n"
          ],
          "name": "stdout"
        }
      ]
    },
    {
      "cell_type": "markdown",
      "metadata": {
        "id": "FNAfBLK4-AjG",
        "colab_type": "text"
      },
      "source": [
        "### What are the classes that performed well, and the classes that did not perform well"
      ]
    },
    {
      "cell_type": "code",
      "metadata": {
        "id": "umYPRewo96wk",
        "colab_type": "code",
        "outputId": "6096068e-4b50-466e-cbea-787a569039f7",
        "colab": {
          "base_uri": "https://localhost:8080/",
          "height": 187
        }
      },
      "source": [
        "class_correct = list(0. for i in range(10))\n",
        "class_total = list(0. for i in range(10))\n",
        "\n",
        "with torch.no_grad():\n",
        "  for data in testloader:\n",
        "    images, labels = data\n",
        "    outputs = net(images)\n",
        "    _, predicted = torch.max(outputs, 1)\n",
        "    c = (predicted == labels).squeeze()\n",
        "    for i in range(4):\n",
        "      label = labels[i]\n",
        "      class_correct[label] += c[i].item()\n",
        "      class_total[label] += 1\n",
        "\n",
        "for i in range(10):\n",
        "  print('Accuracy of %5s : %2d %%' % (classes[i], 100 * class_correct[i] / class_total[i]))"
      ],
      "execution_count": 13,
      "outputs": [
        {
          "output_type": "stream",
          "text": [
            "Accuracy of plane : 57 %\n",
            "Accuracy of   car : 71 %\n",
            "Accuracy of  bird : 29 %\n",
            "Accuracy of   cat : 24 %\n",
            "Accuracy of  deer : 47 %\n",
            "Accuracy of   dog : 52 %\n",
            "Accuracy of  frog : 75 %\n",
            "Accuracy of horse : 63 %\n",
            "Accuracy of  ship : 65 %\n",
            "Accuracy of truck : 63 %\n"
          ],
          "name": "stdout"
        }
      ]
    },
    {
      "cell_type": "markdown",
      "metadata": {
        "id": "g61Pj8TaBVag",
        "colab_type": "text"
      },
      "source": [
        "## Training on a GPU"
      ]
    },
    {
      "cell_type": "code",
      "metadata": {
        "id": "788kiw6H-rOj",
        "colab_type": "code",
        "colab": {
          "base_uri": "https://localhost:8080/",
          "height": 34
        },
        "outputId": "3ac82b91-2eae-4ccd-e48d-792b52e81a18"
      },
      "source": [
        "device = torch.device('cuda:0' if torch.cuda.is_available() else 'cpu')\n",
        "print(device)"
      ],
      "execution_count": 14,
      "outputs": [
        {
          "output_type": "stream",
          "text": [
            "cuda:0\n"
          ],
          "name": "stdout"
        }
      ]
    },
    {
      "cell_type": "code",
      "metadata": {
        "id": "eWjE1b08DF_7",
        "colab_type": "code",
        "colab": {
          "base_uri": "https://localhost:8080/",
          "height": 255
        },
        "outputId": "a5746e29-45be-44e0-f0cd-523002c2a70f"
      },
      "source": [
        "net = Net()\n",
        "net.to(device)\n",
        "\n",
        "def train_using_gpu():\n",
        "  for epoch in range(2):\n",
        "    running_loss = 0.0\n",
        "    for i, data in enumerate(trainloader, 0):\n",
        "      # get the inputs; data is a list of [inputs, labels]\n",
        "      inputs, labels = data[0].to(device), data[1].to(device)\n",
        "\n",
        "      # zero the parameter gradients\n",
        "      optimizer.zero_grad()\n",
        "\n",
        "      # forward + backward + optimize\n",
        "      outputs = net(inputs)\n",
        "      loss = criterion(outputs, labels)\n",
        "      loss.backward()\n",
        "      optimizer.step()\n",
        "\n",
        "      # print statistics\n",
        "      running_loss += loss.item()\n",
        "      if i % 2000 == 1999: # print every 2000 mini-batches\n",
        "        print('[%d, %5d] loss: %.3f' % (epoch + 1, i + 1, running_loss / 2000))\n",
        "        running_loss = 0.0\n",
        "\n",
        "import timeit\n",
        "print(timeit.timeit(\"train_using_gpu()\", globals=globals(), number=1))\n",
        "print('Finished Training')"
      ],
      "execution_count": 22,
      "outputs": [
        {
          "output_type": "stream",
          "text": [
            "[1,  2000] loss: 2.306\n",
            "[1,  4000] loss: 2.306\n",
            "[1,  6000] loss: 2.304\n",
            "[1,  8000] loss: 2.304\n",
            "[1, 10000] loss: 2.306\n",
            "[1, 12000] loss: 2.305\n",
            "[2,  2000] loss: 2.304\n",
            "[2,  4000] loss: 2.307\n",
            "[2,  6000] loss: 2.303\n",
            "[2,  8000] loss: 2.306\n",
            "[2, 10000] loss: 2.304\n",
            "[2, 12000] loss: 2.305\n",
            "111.3752985220001\n",
            "Finished Training\n"
          ],
          "name": "stdout"
        }
      ]
    },
    {
      "cell_type": "code",
      "metadata": {
        "id": "cfjoif1lEOI0",
        "colab_type": "code",
        "colab": {}
      },
      "source": [
        ""
      ],
      "execution_count": 0,
      "outputs": []
    }
  ]
}